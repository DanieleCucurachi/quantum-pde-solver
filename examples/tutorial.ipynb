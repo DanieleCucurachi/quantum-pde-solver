{
 "cells": [
  {
   "cell_type": "markdown",
   "id": "004d5bac",
   "metadata": {},
   "source": [
    "# Tutorial: Solving PDEs with forward Euler Time-Stepping"
   ]
  },
  {
   "cell_type": "markdown",
   "id": "d4375087",
   "metadata": {},
   "source": [
    "This notebook demonstrates how to solve PDEs using the quantum algorithm with forward Euler time-stepping described in [Lubasch et al., “Variational quantum algorithms for nonlinear problems” (PR A, 2019)](https://arxiv.org/pdf/1907.09032). It walks through setting up the problem, preparing the initial quantum state, running the time evolution, and visualizing the results. The notebook also includes a section for comparing the quantum solver with a classical PDE solver."
   ]
  },
  {
   "cell_type": "code",
   "execution_count": null,
   "id": "9cbfe954",
   "metadata": {},
   "outputs": [],
   "source": [
    "# imports\n",
    "\n",
    "import sys, pathlib\n",
    "sys.path.insert(0, str(pathlib.Path.cwd().parent))\n",
    "\n",
    "import matplotlib.pyplot as plt\n",
    "import numpy as np\n",
    "\n",
    "from src.utils import set_seeds\n",
    "from src.pdes import Diffusion2D\n",
    "from src.ref_solutions import DiffusionFiPySolver\n",
    "from src.plot import time_evolution_dataframe_2d, plot_time_evolution_2d\n",
    "from src.time_evo import (\n",
    "    prepare_initial_state,\n",
    "    run_time_evolution,\n",
    ")"
   ]
  },
  {
   "cell_type": "markdown",
   "id": "7ac026e3",
   "metadata": {},
   "source": [
    "## Quantum PDE Solver"
   ]
  },
  {
   "cell_type": "code",
   "execution_count": null,
   "id": "2c5d0cd8",
   "metadata": {},
   "outputs": [
    {
     "name": "stdout",
     "output_type": "stream",
     "text": [
      "\n",
      "------ Initial State Preparation ------\n",
      "\n",
      "Optimal λ parameters: [ 0.89952097  2.22604923  1.46625246  1.12406526 -0.54108772  1.06519961\n",
      "  0.95766252  1.40039907]\n",
      "Final fidelity: 0.9583854346492209\n",
      "\n",
      "------ Time Evolution ------\n",
      "\n",
      "Step 0/3, time=0.00\n"
     ]
    }
   ],
   "source": [
    "# --- User parameters (edit these directly) ---\n",
    "n_qubits = 4          # Number of qubits (must be even for 2D)\n",
    "depth = 2             # Ansatz circuit depth\n",
    "tau = 0.5             # Euler time step\n",
    "D = 0.1               # Diffusion coefficient\n",
    "tmax = 1.5            # Total simulation time\n",
    "sigma = 0.15          # Initial Gaussian width\n",
    "seed = 88983          # Random seed\n",
    "\n",
    "# --- Setup ---\n",
    "set_seeds(seed, verbose=False)\n",
    "domain = [(0.0, 1.0), (0.0, 1.0)]\n",
    "nsteps = int(tmax / tau)\n",
    "\n",
    "# --- Initial State Preparation ---\n",
    "print(\"\\n------ Initial State Preparation ------\\n\")\n",
    "lambdas, init_fidelity = prepare_initial_state(\n",
    "    n_qubits=n_qubits,\n",
    "    depth=depth,\n",
    "    domain=domain,\n",
    "    sigma=sigma,\n",
    ")\n",
    "lambda0 = 1.0  # Initial scaling factor\n",
    "print(\"Optimal λ parameters:\", lambdas)\n",
    "print(\"Final fidelity:\", init_fidelity)\n",
    "\n",
    "# --- Time Evolution ---\n",
    "print(\"\\n------ Time Evolution ------\\n\")\n",
    "df = run_time_evolution(\n",
    "    lambda0=lambda0,\n",
    "    lambdas=lambdas,\n",
    "    pde=Diffusion2D(lambda0, lambdas, D, tau, n_qubits, depth),\n",
    "    nsteps=nsteps,\n",
    "    verbose=False,\n",
    ")\n",
    "\n",
    "# --- Results Processing & Plotting ---\n",
    "print(\"\\n------ Results Processing ------\\n\")\n",
    "df_funcs = time_evolution_dataframe_2d(df, n_qubits, depth, domain)\n",
    "plot_time_evolution_2d(df_funcs, max_plots=6, outfile=None)  # Show plot, do not save"
   ]
  },
  {
   "cell_type": "markdown",
   "id": "2df84149",
   "metadata": {},
   "source": [
    "## Classical PDE Solver for Comparison"
   ]
  },
  {
   "cell_type": "code",
   "execution_count": null,
   "id": "f989a848",
   "metadata": {},
   "outputs": [],
   "source": [
    "grid_size = int(np.sqrt(2**n_qubits))\n",
    "solver = DiffusionFiPySolver(\n",
    "    dim=len(domain), \n",
    "    nx=grid_size, \n",
    "    ny=grid_size, \n",
    "    Lx=domain[0][1]-domain[0][0], \n",
    "    Ly=domain[1][1]-domain[1][0],\n",
    ")\n",
    "history = solver.solve(\n",
    "    D=D,\n",
    "    dt=tau,\n",
    "    steps=int(tmax / tau),\n",
    "    sigma=sigma\n",
    ")\n",
    "\n",
    "# history[k] = solution at step k\n",
    "plt.subplot(1, 2, 1)\n",
    "im0 = plt.imshow(history[0].reshape(solver.nx, solver.ny))\n",
    "plt.title(\"t=0\")\n",
    "plt.xlabel(\"y\")\n",
    "plt.ylabel(\"x\")\n",
    "plt.colorbar(im0, fraction=0.046, pad=0.04, label=\"f(x, y, t)\")\n",
    "\n",
    "plt.subplot(1, 2, 2)\n",
    "im1 = plt.imshow(history[-1].reshape(solver.nx, solver.ny))\n",
    "plt.title(\"t=end\")\n",
    "plt.xlabel(\"y\")\n",
    "plt.ylabel(\"x\")\n",
    "plt.colorbar(im1, fraction=0.046, pad=0.04, label=\"f(x, y, t)\")\n",
    "\n",
    "plt.tight_layout()\n",
    "plt.show()"
   ]
  }
 ],
 "metadata": {
  "kernelspec": {
   "display_name": "variational-quantum-pde",
   "language": "python",
   "name": "python3"
  },
  "language_info": {
   "codemirror_mode": {
    "name": "ipython",
    "version": 3
   },
   "file_extension": ".py",
   "mimetype": "text/x-python",
   "name": "python",
   "nbconvert_exporter": "python",
   "pygments_lexer": "ipython3",
   "version": "3.10.18"
  }
 },
 "nbformat": 4,
 "nbformat_minor": 5
}
