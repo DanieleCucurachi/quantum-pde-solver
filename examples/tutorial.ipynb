{
 "cells": [
  {
   "cell_type": "markdown",
   "id": "004d5bac",
   "metadata": {},
   "source": [
    "# Solving PDEs with"
   ]
  },
  {
   "cell_type": "markdown",
   "id": "43afe351",
   "metadata": {},
   "source": []
  }
 ],
 "metadata": {
  "language_info": {
   "name": "python"
  }
 },
 "nbformat": 4,
 "nbformat_minor": 5
}
