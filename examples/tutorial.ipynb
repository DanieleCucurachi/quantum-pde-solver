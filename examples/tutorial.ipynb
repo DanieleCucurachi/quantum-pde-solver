{
 "cells": [
  {
   "cell_type": "markdown",
   "id": "004d5bac",
   "metadata": {},
   "source": [
    "# Tutorial: Solving PDEs with forward Euler Time-Stepping"
   ]
  },
  {
   "cell_type": "markdown",
   "id": "43afe351",
   "metadata": {},
   "source": []
  },
  {
   "cell_type": "code",
   "execution_count": null,
   "id": "f989a848",
   "metadata": {
    "vscode": {
     "languageId": "plaintext"
    }
   },
   "outputs": [],
   "source": []
  }
 ],
 "metadata": {
  "language_info": {
   "name": "python"
  }
 },
 "nbformat": 4,
 "nbformat_minor": 5
}
