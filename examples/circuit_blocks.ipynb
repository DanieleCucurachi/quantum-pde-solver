{
 "cells": [
  {
   "cell_type": "markdown",
   "id": "bda5a083",
   "metadata": {},
   "source": [
    "# Circuit Blocks"
   ]
  },
  {
   "cell_type": "markdown",
   "id": "0e9a2487",
   "metadata": {},
   "source": [
    "This notebook show how to use the functions defined in `src/circuit.py` to create the circuits shown in Fig, S3 of [Lubasch et al., “Variational quantum algorithms for nonlinear problems” (PR A, 2019)](https://arxiv.org/pdf/1907.09032).\n",
    "\n",
    "<img src=\"./images/fig_s3_lubasch.png\" alt=\"Fig S3 Lubasch et al.\" width=\"450\"/>"
   ]
  },
  {
   "cell_type": "code",
   "execution_count": 1,
   "id": "22cca244",
   "metadata": {},
   "outputs": [],
   "source": [
    "#imports\n",
    "\n",
    "import sys, pathlib\n",
    "sys.path.insert(0, str(pathlib.Path.cwd().parent))\n",
    "\n",
    "import matplotlib.pyplot as plt\n",
    "\n",
    "from qiskit.quantum_info import Statevector\n",
    "from qiskit import transpile\n",
    "from qiskit_aer import Aer\n",
    "\n",
    "from src.ansatz import HEAnsatz\n",
    "from src.circuit import (\n",
    "    circuit_overlap, \n",
    "    circuit_adder_overlap_1d,\n",
    "    circuit_diag_overlap,\n",
    "    circuit_nonlinear_overlap_1d,\n",
    ") "
   ]
  },
  {
   "cell_type": "code",
   "execution_count": 2,
   "id": "c4cf3525",
   "metadata": {},
   "outputs": [],
   "source": [
    "# Define U_var and U_tilde\n",
    "n_qubits = 4  # Number of qubits\n",
    "depth = 2     # Depth of the ansatz\n",
    "\n",
    "# Create a variational circuit using the Ansatz class for U_var\n",
    "ansatz_var = HEAnsatz(n_qubits, depth)\n",
    "params = ansatz_var.random_params()\n",
    "U_var = ansatz_var.qc(params)\n",
    "\n",
    "# Create a variational circuit using the Ansatz class for U_tilde\n",
    "ansatz_tilde = HEAnsatz(n_qubits, depth)\n",
    "params_tilde = ansatz_tilde.random_params()\n",
    "U_tilde = ansatz_tilde.qc(params_tilde)"
   ]
  },
  {
   "cell_type": "markdown",
   "id": "6ffd8f56",
   "metadata": {},
   "source": [
    "## Fig S3 (a)"
   ]
  },
  {
   "cell_type": "code",
   "execution_count": 3,
   "id": "5e4a1533",
   "metadata": {},
   "outputs": [
    {
     "name": "stdout",
     "output_type": "stream",
     "text": [
      "       ┌───┐                          ┌───┐\n",
      "  anc: ┤ H ├────■────────────■────────┤ H ├\n",
      "       └───┘┌───┴────┐┌──────┴───────┐└───┘\n",
      "sys_0: ─────┤0       ├┤0             ├─────\n",
      "            │        ││              │     \n",
      "sys_1: ─────┤1       ├┤1             ├─────\n",
      "            │  U_var ││  U_tilde_dag │     \n",
      "sys_2: ─────┤2       ├┤2             ├─────\n",
      "            │        ││              │     \n",
      "sys_3: ─────┤3       ├┤3             ├─────\n",
      "            └────────┘└──────────────┘     \n"
     ]
    }
   ],
   "source": [
    "qc_overlap = circuit_overlap(U_var, U_tilde)\n",
    "print(qc_overlap.draw())"
   ]
  },
  {
   "cell_type": "markdown",
   "id": "d350b598",
   "metadata": {},
   "source": [
    "## Fig S3 (b)"
   ]
  },
  {
   "cell_type": "code",
   "execution_count": 4,
   "id": "c43fb91f",
   "metadata": {},
   "outputs": [
    {
     "name": "stdout",
     "output_type": "stream",
     "text": [
      "           ┌───┐                                                  »\n",
      "      anc: ┤ H ├────■───────■────■────■────────────────────────■──»\n",
      "           └───┘    │       │    │  ┌─┴─┐                    ┌─┴─┐»\n",
      "add_anc_0: ─────────┼───────┼────┼──┤ X ├──■──────────────■──┤ X ├»\n",
      "                    │       │    │  └─┬─┘┌─┴─┐          ┌─┴─┐└─┬─┘»\n",
      "add_anc_1: ─────────┼───────┼────┼────┼──┤ X ├──■────■──┤ X ├──┼──»\n",
      "                ┌───┴────┐┌─┴─┐  │    │  └─┬─┘  │    │  └─┬─┘  │  »\n",
      "    sys_0: ─────┤0       ├┤ X ├──■────■────┼────┼────┼────┼────■──»\n",
      "                │        │└───┘┌─┴─┐       │    │    │    │       »\n",
      "    sys_1: ─────┤1       ├─────┤ X ├───────■────┼────┼────■───────»\n",
      "                │  U_var │     └───┘          ┌─┴─┐  │            »\n",
      "    sys_2: ─────┤2       ├────────────────────┤ X ├──■────────────»\n",
      "                │        │                    └───┘┌─┴─┐          »\n",
      "    sys_3: ─────┤3       ├─────────────────────────┤ X ├──────────»\n",
      "                └────────┘                         └───┘          »\n",
      "«                           ┌───┐\n",
      "«      anc: ───────■────────┤ H ├\n",
      "«                  │        └───┘\n",
      "«add_anc_0: ───────┼─────────────\n",
      "«                  │             \n",
      "«add_anc_1: ───────┼─────────────\n",
      "«           ┌──────┴───────┐     \n",
      "«    sys_0: ┤0             ├─────\n",
      "«           │              │     \n",
      "«    sys_1: ┤1             ├─────\n",
      "«           │  U_tilde_dag │     \n",
      "«    sys_2: ┤2             ├─────\n",
      "«           │              │     \n",
      "«    sys_3: ┤3             ├─────\n",
      "«           └──────────────┘     \n"
     ]
    }
   ],
   "source": [
    "qc_adder = circuit_adder_overlap_1d(U_var, U_tilde)\n",
    "print(qc_adder.draw())"
   ]
  },
  {
   "cell_type": "markdown",
   "id": "51f432ac",
   "metadata": {},
   "source": [
    "## Fig S3 (c)"
   ]
  },
  {
   "cell_type": "code",
   "execution_count": 5,
   "id": "09d12239",
   "metadata": {},
   "outputs": [
    {
     "name": "stdout",
     "output_type": "stream",
     "text": [
      "           ┌───┐                                                             »\n",
      "      anc: ┤ H ├────■───────■────■────■────■─────────■──────────■────■────■──»\n",
      "           └───┘    │       │    │    │    │         │          │    │  ┌─┴─┐»\n",
      "add_anc_0: ─────────┼───────┼────┼────┼────┼─────────┼──────────┼────┼──┤ X ├»\n",
      "                    │       │    │    │    │         │          │    │  └─┬─┘»\n",
      "add_anc_1: ─────────┼───────┼────┼────┼────┼─────────┼──────────┼────┼────┼──»\n",
      "                ┌───┴────┐  │    │    │    │         │        ┌─┴─┐  │    │  »\n",
      "    sys_0: ─────┤0       ├──■────┼────┼────┼─────────┼────────┤ X ├──■────■──»\n",
      "                │        │  │    │    │    │         │        └───┘┌─┴─┐     »\n",
      "    sys_1: ─────┤1       ├──┼────■────┼────┼─────────┼─────────────┤ X ├─────»\n",
      "                │  U_var │  │    │    │    │         │             └───┘     »\n",
      "    sys_2: ─────┤2       ├──┼────┼────■────┼─────────┼───────────────────────»\n",
      "                │        │  │    │    │    │         │                       »\n",
      "    sys_3: ─────┤3       ├──┼────┼────┼────■─────────┼───────────────────────»\n",
      "                └────────┘┌─┴─┐  │    │    │  ┌──────┴───────┐               »\n",
      "   diag_0: ───────────────┤ X ├──┼────┼────┼──┤0             ├───────────────»\n",
      "                          └───┘┌─┴─┐  │    │  │              │               »\n",
      "   diag_1: ────────────────────┤ X ├──┼────┼──┤1             ├───────────────»\n",
      "                               └───┘┌─┴─┐  │  │  U_tilde_dag │               »\n",
      "   diag_2: ─────────────────────────┤ X ├──┼──┤2             ├───────────────»\n",
      "                                    └───┘┌─┴─┐│              │               »\n",
      "   diag_3: ──────────────────────────────┤ X ├┤3             ├───────────────»\n",
      "                                         └───┘└──────────────┘               »\n",
      "«                                                    ┌───┐\n",
      "«      anc: ──────────────────────■─────────■────────┤ H ├\n",
      "«                               ┌─┴─┐       │        └───┘\n",
      "«add_anc_0: ──■──────────────■──┤ X ├───────┼─────────────\n",
      "«           ┌─┴─┐          ┌─┴─┐└─┬─┘       │             \n",
      "«add_anc_1: ┤ X ├──■────■──┤ X ├──┼─────────┼─────────────\n",
      "«           └─┬─┘  │    │  └─┬─┘  │  ┌──────┴───────┐     \n",
      "«    sys_0: ──┼────┼────┼────┼────■──┤0             ├─────\n",
      "«             │    │    │    │       │              │     \n",
      "«    sys_1: ──■────┼────┼────■───────┤1             ├─────\n",
      "«                ┌─┴─┐  │            │  U_tilde_dag │     \n",
      "«    sys_2: ─────┤ X ├──■────────────┤2             ├─────\n",
      "«                └───┘┌─┴─┐          │              │     \n",
      "«    sys_3: ──────────┤ X ├──────────┤3             ├─────\n",
      "«                     └───┘          └──────────────┘     \n",
      "«   diag_0: ──────────────────────────────────────────────\n",
      "«                                                         \n",
      "«   diag_1: ──────────────────────────────────────────────\n",
      "«                                                         \n",
      "«   diag_2: ──────────────────────────────────────────────\n",
      "«                                                         \n",
      "«   diag_3: ──────────────────────────────────────────────\n",
      "«                                                         \n"
     ]
    }
   ],
   "source": [
    "qc_nonlinear = circuit_nonlinear_overlap_1d(U_var, U_tilde)\n",
    "print(qc_nonlinear.draw())"
   ]
  }
 ],
 "metadata": {
  "kernelspec": {
   "display_name": "variational-quantum-pde",
   "language": "python",
   "name": "python3"
  },
  "language_info": {
   "codemirror_mode": {
    "name": "ipython",
    "version": 3
   },
   "file_extension": ".py",
   "mimetype": "text/x-python",
   "name": "python",
   "nbconvert_exporter": "python",
   "pygments_lexer": "ipython3",
   "version": "3.10.18"
  }
 },
 "nbformat": 4,
 "nbformat_minor": 5
}
